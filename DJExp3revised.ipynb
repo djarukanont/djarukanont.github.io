{
 "cells": [
  {
   "cell_type": "markdown",
   "metadata": {
    "slideshow": {
     "slide_type": "slide"
    }
   },
   "source": [
    "# 420115 \n",
    "# ปฏิบัติการฟิสิกส์อย่างสังเขป"
   ]
  },
  {
   "cell_type": "markdown",
   "metadata": {
    "slideshow": {
     "slide_type": "slide"
    }
   },
   "source": [
    "\n",
    "# การทดลองที่3 \n",
    "## การวัดความเร่งเนื่องจากแรงโน้มถ่วง"
   ]
  },
  {
   "cell_type": "markdown",
   "metadata": {
    "slideshow": {
     "slide_type": "slide"
    }
   },
   "source": [
    "## วัตถุประสงค์\n",
    "\n",
    "1. เพื่อศึกษาการแกว่งของลูกตุ้มนาฬิกาอย่างง่ายและลุกตุ้มนาฬิกาฟิสิกัล\n",
    "\n",
    "2. เพื่อวัดค่าความเร่งโน้มถ่วงของโลก จากคาบการแกว่งของลูกตุ้มนาฬิกาอย่างง่าย\n",
    "\n",
    "3. เพื่อวัดค่าความเร่งโน้มถ่วงของโลก จากคาบการแกว่งของลูกตุ้มนาฬิกาฟิสิกัล"
   ]
  },
  {
   "cell_type": "markdown",
   "metadata": {
    "slideshow": {
     "slide_type": "slide"
    }
   },
   "source": [
    "# การเคลื่อนที่แบบฮาร์มอนิก\n",
    "\n",
    "- การเคลื่อนที่แบบฮาร์มอนิกเป็นการเคลื่อนที่กลับไปกลับมาผ่านตำแหน่งสมดุล โดย\n",
    "การกระจัดของวัตถุเป็นฟังก์ชันไซน์หรือโคไซน์ ซึ่งเป็นฟังก์ชันฮาร์โมนิก จึงเรียกว่าการเคลื่อนที่\n",
    "แบบฮาร์โมนิก การเคลื่อนที่ที่ง่ายที่สุดของการเคลื่อนที่แบบฮาร์มอนิก เรียกว่า การเคลื่อนที่\n",
    "แบบฮาร์มอนิก อย่างง่าย\n",
    "\n",
    " \n",
    " <img src=\"figures/bull-dog-in-a-swing1.jpg\" width=\"35%\" height=\"35%\"  align=\"left\">\n",
    " <img src=\"figures/Panthéon_Pendule_de_Foucault2.JPG\" width=\"35%\" height=\"35%\"  align=\"left\">\n",
    " \n",
    " \n",
    "\n"
   ]
  },
  {
   "cell_type": "markdown",
   "metadata": {
    "slideshow": {
     "slide_type": "slide"
    }
   },
   "source": [
    " #### ตอนที่1: ลูกตุ้มนาฬิกาอย่างง่าย(A Simple Pendulum)\n",
    " \n",
    " - วัดค่าความเร่งโน้มถ่วงของโลก,g , จากคาบการแกว่งของลูกตุ้มนาฬิกาอย่างง่าย\n",
    " <img src=\"figures/pendulo2.gif\" width=\"40%\" height=\"40%\">\n",
    " "
   ]
  },
  {
   "cell_type": "markdown",
   "metadata": {
    "colab_type": "text",
    "id": "haQCFeQUKWmA",
    "slideshow": {
     "slide_type": "slide"
    }
   },
   "source": [
    "## ทฤษฎี\n",
    "- ลูกตุ้มนาฬิกาอย่างง่าย เป็นโมเดลทางคณิตศาสตตร์ ประกอบด้วยลุุูกตุ้มมวล m ขนาดเล็กมากๆ (จุด)ห้อยแขวนไว้ด้วยเชือกที่ไม่มีมวล\n",
    " ถ้าดึงลูกตุ้มให้เคลื่อนที่ออกไปจากตำแหน่งสมดุล จนเส้นเชือกทำมุม θ น้อยๆ กับ\n",
    "แนวดิ่งแล้วปล่อย ลูกตุ้มจะเคลื่อนที่กลับไปกลับมาผ่านตำแหน่งสมดุล โดยมีคาบการแกว่งคงที่\n",
    "\n",
    "<img src=\"figures/Spendulum.jpeg.jpg\" width=\"30%\" height=\"30%\">\n",
    "\n",
    "คาบเวลาของการแกว่ง,T ($s$), จะมีค่าตามความสัมพันธ์:\n",
    "\n",
    ">$T~=~2~\\pi~\\sqrt{\\frac{L}{g}} $\n",
    "\n",
    "เมื่อ **g** เป็นค่าความเร่งจากแรงโน้มถ่วงของโลก ($m/s^{2}$)\n",
    "และ **L** เป็นความยาวของเส้นเชือก ($m$)\n",
    "\n",
    "\n",
    ">$T^2~=~4~\\pi^2\\frac{L}{g} $\n",
    "\n",
    "หากเขียนความสัมพันธ์โดยใช้กราฟเส้นตรงที่มี ความชัน=$slope$,  $y=t^2$ และ $x=L$ \n",
    "\n",
    ">$y~=~slope~x $\n",
    "\n",
    "\n",
    "เมื่อเปรียบเทียบสมการข้างบน ค่าความเร่งจากแรงโน้มถ่วง, g, จะหาได้จาก\n",
    "\n",
    "\n",
    ">$g~=~4\\pi^2\\left ({\\frac{L}{T^2}} \\right ) ~=~ \\frac{ 4 \\pi^2}{slope} $\n",
    "\n",
    ">$slope~=~\\frac{T^2}{L} $\n"
   ]
  },
  {
   "cell_type": "markdown",
   "metadata": {
    "slideshow": {
     "slide_type": "slide"
    }
   },
   "source": [
    "### อุปกรณ์การทดลอง \n",
    "<img src=\"figures/IMG_6655.jpg\" width=\"40%\" height=\"30%\" >\n",
    "\n",
    "1. เสาตั้ง\n",
    "2. ลูกตุ้ม\n",
    "3. เชือก\n",
    "4. ไม้เมตร \n",
    "5. นาฬิกาจับเวลา\n",
    "6. ฐานตั้งและแกนหมุน \n",
    "7. ไม้เมตรที่เจาะรู \n",
    "8. เครื่องชั่งมวล"
   ]
  },
  {
   "cell_type": "markdown",
   "metadata": {
    "slideshow": {
     "slide_type": "slide"
    }
   },
   "source": [
    "### วิธีการทดลอง\n",
    "<img src=\"figures/procedure01.jpg\" width=\"40%\" height=\"30%\" >\n",
    "\n",
    "1. จัดอุปกรณ์ การทดลองดังรูป\n",
    "2. วัดความยาวเชือกที่แขวนลูกตุ้ม ( $L$ ) (ความยาวเชือกบวกกับรัศมีของลูกตุ้ม)โดยเริ่มที่ 60 cm\n",
    "3. จัดให้ลูกตุ้มแกว่งโดยมีมุมแกว่งไม่เกิน 10 องศา\n",
    "4. จับเวลาที่ลูกตุ้มแกว่งครบ 10 รอบ คำนวณค่าคาบการแกว่งเฉลี่ยของลูกตุ้ม ( $T$ )\n",
    "5. ทำการทดลองซ้ำข้อ 2-4 โดยเปลี่ยนค่าความยาวของลูกตุ้ม ที่ความยาว 70, 80, 90 และ 100 cm\n",
    "6. คำนวณหาค่าคาบกำลังสอง ( $T^2$) เชียนกราฟเส้นตรงระหว่าง $T^2$ (แกนตั้ง) และ $L^2$ (แกนนอน) ในกระดาษกราฟหรือในโปรแกรม \n",
    "7. หาค่าความชันของกราฟและนำไปนวณหาค่า g และ หาเปอร์เซนต์ความความคลาดเคลื่อน\n",
    "8. สรุปผลการทดลอง\n",
    "\n"
   ]
  },
  {
   "cell_type": "markdown",
   "metadata": {
    "slideshow": {
     "slide_type": "slide"
    }
   },
   "source": [
    "#### ผลการทดลอง: ภาพแสดงนาฬิกาจับเวลา เมื่อลูกคุ้มเคลื่อนที่ไป 10 รอบของการแกว่ง\n",
    " \n",
    "- ท่ี่ความยาวเชือก $L=60.00$ cm\n",
    " <img src=\"figures/resultp1/tsp60cm.png\" width=\"40%\" height=\"40%\">\n",
    " \n",
    "- ท่ี่ความยาวเชือก $L=70.00$ cm\n",
    " <img src=\"figures/resultp1/tsp70cm.png\" width=\"40%\" height=\"40%\">\n",
    " \n",
    "- ท่ี่ความยาวเชือก $L=80.00$ cm\n",
    " <img src=\"figures/resultp1/tsp80cm.png\" width=\"40%\" height=\"40%\">\n",
    " \n",
    "- ท่ี่ความยาวเชือก $L=90.00$ cm\n",
    " <img src=\"figures/resultp1/tsp90cm.png\" width=\"40%\" height=\"40%\">\n",
    " \n",
    "- ท่ี่ความยาวเชือก $L=100.00$ cm\n",
    " <img src=\"figures/resultp1/tsp100cm.png\" width=\"40%\" height=\"40%\">"
   ]
  },
  {
   "cell_type": "markdown",
   "metadata": {
    "slideshow": {
     "slide_type": "slide"
    }
   },
   "source": [
    "### ตารางบันทึกผล \n",
    "\n",
    "<img src=\"figures/datatablepart1.png\" width=\"ุุุ30%\" height=\"30%\">\n"
   ]
  },
  {
   "cell_type": "code",
   "execution_count": 73,
   "metadata": {
    "slideshow": {
     "slide_type": "skip"
    }
   },
   "outputs": [
    {
     "data": {
      "text/html": [
       "<table border=\"1\" class=\"dataframe\">\n",
       "  <thead>\n",
       "    <tr style=\"text-align: right;\">\n",
       "      <th>ความยาว L (m)</th>\n",
       "      <th>เวลาในการแกว่ง10รอบ t(s)</th>\n",
       "      <th>คาบการแกว่ง T</th>\n",
       "      <th>$T^2$</th>\n",
       "    </tr>\n",
       "  </thead>\n",
       "  <tbody>\n",
       "    <tr>\n",
       "      <td>0.6</td>\n",
       "      <td>15.60</td>\n",
       "      <td></td>\n",
       "      <td></td>\n",
       "    </tr>\n",
       "    <tr>\n",
       "      <td>0.7</td>\n",
       "      <td>16.43</td>\n",
       "      <td></td>\n",
       "      <td></td>\n",
       "    </tr>\n",
       "    <tr>\n",
       "      <td>0.8</td>\n",
       "      <td>17.68</td>\n",
       "      <td></td>\n",
       "      <td></td>\n",
       "    </tr>\n",
       "    <tr>\n",
       "      <td>0.9</td>\n",
       "      <td>18.94</td>\n",
       "      <td></td>\n",
       "      <td></td>\n",
       "    </tr>\n",
       "    <tr>\n",
       "      <td>1.0</td>\n",
       "      <td>19.93</td>\n",
       "      <td></td>\n",
       "      <td></td>\n",
       "    </tr>\n",
       "  </tbody>\n",
       "</table>"
      ],
      "text/plain": [
       "<IPython.core.display.HTML object>"
      ]
     },
     "metadata": {},
     "output_type": "display_data"
    }
   ],
   "source": [
    "import numpy as np\n",
    "from IPython.display import display, HTML\n",
    "import pandas as pd\n",
    "an_array=np.full((5), [' '],dtype=str)#initialize empty chararray\n",
    "df = pd.DataFrame({\"ความยาว L (m)\":0.10*np.arange(5)+0.60, \n",
    "                   #\"เวลาในการแกว่ง10รอบ t(s)\":[14.48,16.78,17.97,18.60,19.65], \n",
    "                   \"เวลาในการแกว่ง10รอบ t(s)\":[15.6,16.43,17.68,18.94,19.93], \n",
    "                   \"คาบการแกว่ง T\":an_array,\n",
    "                   r\" $T^2$\":an_array})\n",
    "display(HTML(df.to_html(index=False)))"
   ]
  },
  {
   "cell_type": "code",
   "execution_count": 81,
   "metadata": {
    "slideshow": {
     "slide_type": "skip"
    }
   },
   "outputs": [
    {
     "name": "stdout",
     "output_type": "stream",
     "text": [
      "Intercept: [-0.0081164]\n",
      "slope: [[3.964685]]\n",
      "g: [[9.95751683]]\n"
     ]
    }
   ],
   "source": [
    "import matplotlib.pyplot as plt\n",
    "from sklearn.linear_model import LinearRegression\n",
    "#import seaborn as sns\n",
    "T=0.1*df[\"เวลาในการแกว่ง10รอบ t(s)\"].values\n",
    "y=T**2\n",
    "x= df[\"ความยาว L (m)\"].values\n",
    "x_new = np.linspace(0, 1.1, 100)\n",
    "model = LinearRegression()\n",
    "model.fit(x.reshape(-1, 1), y.reshape(-1, 1))\n",
    "print('Intercept:', model.intercept_)\n",
    "print('slope:',model.coef_)\n",
    "print('g:',(4*np.pi**2)/model.coef_)\n",
    "def plotLab3():\n",
    "    fig, ax = plt.subplots(1,1,figsize=(8,6))\n",
    "    ax.scatter(x, y, c=\"r\", s=50,alpha=0.3,linewidths=2, edgecolors='r')\n",
    "    ax.plot(x_new, model.predict(x_new[:, np.newaxis]))\n",
    "    ax.set_title(r'Plot of pendulum length vs time period squared' ,fontsize=20)\n",
    "    ax.set_xlabel('Length (m)')\n",
    "    ax.set_ylabel(r' $T^2$    $s^2$' ,fontsize=20)\n",
    "    ax.text(0.6, 1.0, r'$slope= ...$ ', fontsize=15)\n",
    "    ax.text(0.71, 0.2, r'$g= ...$ ', fontsize=15)\n",
    "\n",
    "#data=pd.DataFrame()\n",
    "#sns.regplot(x=\"total_bill\", y=\"tip\", data=tips);\n"
   ]
  },
  {
   "cell_type": "code",
   "execution_count": 82,
   "metadata": {
    "slideshow": {
     "slide_type": "slide"
    }
   },
   "outputs": [
    {
     "data": {
      "image/png": "[encoded data removed]",
      "text/plain": [
       "<Figure size 576x432 with 1 Axes>"
      ]
     },
     "metadata": {
      "needs_background": "light"
     },
     "output_type": "display_data"
    }
   ],
   "source": [
    "# ตัวอย่างการเขียนกราฟ การทดลอง\n",
    "plotLab3()"
   ]
  },
  {
   "cell_type": "code",
   "execution_count": 12,
   "metadata": {
    "colab_type": "text",
    "id": "mx6yjSBGAm6x",
    "scrolled": true,
    "slideshow": {
     "slide_type": "skip"
    }
   },
   "outputs": [],
   "source": [
    "from IPython.display import YouTubeVideo\n",
    "id=[\"c7b5qhX7pSQ\",\"QIILmDwgaVM\",\"KQcMaotEznc\",\"JPaXWr39zXk\",\"PILcMx23O24\"]\n",
    "\n"
   ]
  },
  {
   "cell_type": "code",
   "execution_count": 9,
   "metadata": {
    "slideshow": {
     "slide_type": "slide"
    }
   },
   "outputs": [
    {
     "data": {
      "image/jpeg": "[encoded data removed]",
      "text/html": [
       "\n",
       "        <iframe\n",
       "            width=\"560\"\n",
       "            height=\"315\"\n",
       "            src=\"https://www.youtube.com/embed/c7b5qhX7pSQ?rel=0\"\n",
       "            frameborder=\"0\"\n",
       "            allowfullscreen\n",
       "        ></iframe>\n",
       "        "
      ],
      "text/plain": [
       "<IPython.lib.display.YouTubeVideo at 0x7211d11848>"
      ]
     },
     "execution_count": 9,
     "metadata": {},
     "output_type": "execute_result"
    }
   ],
   "source": [
    "#  สาธิตปฏิบัติการที่ 3 รายวิชา 420115 ตอนที่ 1.1\n",
    "YouTubeVideo(id[0],560,315,rel=0)"
   ]
  },
  {
   "cell_type": "code",
   "execution_count": 10,
   "metadata": {
    "slideshow": {
     "slide_type": "slide"
    }
   },
   "outputs": [
    {
     "data": {
      "image/jpeg": "[encoded data removed]",
      "text/html": [
       "\n",
       "        <iframe\n",
       "            width=\"560\"\n",
       "            height=\"315\"\n",
       "            src=\"https://www.youtube.com/embed/QIILmDwgaVM?rel=0\"\n",
       "            frameborder=\"0\"\n",
       "            allowfullscreen\n",
       "        ></iframe>\n",
       "        "
      ],
      "text/plain": [
       "<IPython.lib.display.YouTubeVideo at 0x7211d11308>"
      ]
     },
     "execution_count": 10,
     "metadata": {},
     "output_type": "execute_result"
    }
   ],
   "source": [
    "#สาธิตปฏิบัติการที่ ตอนที่ 1.2(การแกว่งที่ระยะ 60 cm)\n",
    "YouTubeVideo(id[1],560,315,rel=0)"
   ]
  },
  {
   "cell_type": "markdown",
   "metadata": {
    "slideshow": {
     "slide_type": "slide"
    }
   },
   "source": [
    "#### ตอนที่2: ลูกตุ้มนาฬิกาฟิสิกัล(Physical Pendulum)\n",
    " \n",
    " - วัดค่าความเร่งจากแรงโน้มถ่วงของโลก,g ,จากคาบการแกว่งของลูกตุ้มนาฬิกาฟิสิกัล\n",
    " <img src=\"figures/swing.gif\" width=\"50%\" height=\"50%\">"
   ]
  },
  {
   "cell_type": "markdown",
   "metadata": {
    "slideshow": {
     "slide_type": "slide"
    }
   },
   "source": [
    "## ทฤษฏี\n",
    "-  ใช้อธิบายการแกว่งของวัตถุแข็งเกร็ง ที่ไม่สามารถโมเดลด้วยจุดมวล m หากแขวนวัตถุที่จุดหมุน O ขณะอยู่นิ่ง จุดศูนย์กลางมวลของวัตถุ (จุด C.M.) จะอยู่ในแนวดิ่งใต้จุด O เป็นระยะ h และโมเมนต์ความเฉื่อยของวัตถุรอบแกนที่ผ่านจุด O เป็น I\n",
    "\n",
    "<img src=\"figures/Ppendulum.jpg\" width=\"30%\" height=\"30%\">\n",
    "\n",
    "หากเราแกว่งลูกตุ้มนาฬิกาฟิสิกัลเป็นมุมเล็กๆ คาบเวลาของการแกว่ง,T ($s$), จะมีค่าตามความสัมพันธ์:\n",
    "\n",
    ">$T~=~2~\\pi~\\sqrt{\\frac{I}{mgh}} $\n",
    "\n",
    "- $g$ เป็นค่าความเร่งจากแรงโน้มถ่วงของโลก ($m/s^{2}$)\n",
    "- $I$ เป็นโมเมนต์ความเฉื่อยของวัตถุ ($kg  m^2$)\n",
    "- $h$ เป็น ระยะหว่างจุดหมุน O และ จุดศูนย์กลางมวลของวัตถุ($m$)\n",
    "\n",
    ">$T^2~=~4~\\pi^2\\frac{I}{mgh} $\n",
    "\n",
    "ค่าความเร่งจากแรงโน้มถ่วง, g, จะหาได้จาก\n",
    ">$g~=~4\\pi^2\\left ({\\frac{I}{mT^2h}} \\right )$\n",
    "\n",
    "โมเมนต์ความเฉื่อยของไม้เมตรยาว L  รอบแกนที่ผ่านจุด O คำนวณได้จาก\n",
    "\n",
    ">$I~=~ I_{CM} + mh^2$\n",
    "\n",
    ">$I~=~ \\frac{1}{12}mL^2 + mh^2$\n",
    "\n",
    "เมื่อ $I_{CM}~=~ \\frac{1}{12}mL^2$คือโมเมนต์ความเฉื่อยของไม้เมตรยาว  L  รอบแกนที่ผ่านจุดจุดศูนย์กลางมวล\n",
    "\n"
   ]
  },
  {
   "cell_type": "markdown",
   "metadata": {
    "slideshow": {
     "slide_type": "slide"
    }
   },
   "source": [
    "### วิธีการทดลอง\n",
    "<img src=\"figures/figp2config.jpg\" width=\"40%\" height=\"20%\" >\n",
    "\n",
    "1. ชั่งมวลของไม้เมตร \n",
    "2. ระยะห่างจากจุดหมุน(รูบนไม้เมตร)ถึงจุดกึ่งกลางของไม้เมตร(จุดที่ความยาว 50 cmเป็นระยะ h \n",
    "3. จัดอุปกรณ์ การทดลองดังรูป\n",
    "4. จัดให้ไม้เมตรแกว่งโดยมีมุมแกว่งไม่เกิน 10 องศา\n",
    "5. จับเวลาที่ไม้เมตรแกว่งครบ 10 รอบ คำนวณค่าคาบการแกว่งเฉลี่ยของลูกตุ้ม (T)\n",
    "6. คํานวณหาค่า g และ หาเปอร์เซนต์ความแตกต่างจากค่า g ที่ได้จากการทดลองในตอนที่ 1\n",
    "8. สรุปผลการทดลอง\n"
   ]
  },
  {
   "cell_type": "markdown",
   "metadata": {
    "slideshow": {
     "slide_type": "slide"
    }
   },
   "source": [
    "#### ผลการทดลอง ตอนที่ 2\n",
    " \n",
    "- ภาพเครื่องชั่งมวลของไม้เมตร\n",
    " <img src=\"figures/resultp2/weight_metrestick.jpg\" width=\"40%\" height=\"40%\">\n",
    "- ภาพจุดที่เจาะรูสำหรับแขวนของไม้เมตร (จุดหมุนม ใช้สำหรับคำนาณค่า h)\n",
    " <img src=\"figures/resultp2/meterstickpivot.jpg\" width=\"40%\" height=\"40%\">\n",
    "-  ภาพแสดงนาฬิกาจับเวลา เมื่อไม้เมตรเคลื่อนที่ไป 10 รอบของการแกว่ง\n",
    " <img src=\"figures/resultp2/tphysicalpendulum1568.jpg\" width=\"40%\" height=\"40%\">\n",
    " "
   ]
  },
  {
   "cell_type": "markdown",
   "metadata": {
    "slideshow": {
     "slide_type": "slide"
    }
   },
   "source": [
    "### ตารางบันทึกผล ตอนที่ 2\n",
    "\n",
    "<img src=\"figures/datatablepart2.png\" width=\"ุุุ55%\" height=\"55%\">"
   ]
  },
  {
   "cell_type": "markdown",
   "metadata": {
    "slideshow": {
     "slide_type": "slide"
    }
   },
   "source": [
    "[hi]<iframe width=\"560\" height=\"315\" src=\"https://www.youtube.com/embed/c7b5qhX7pSQ\" frameborder=\"0\" allow=\"accelerometer; autoplay; encrypted-media; gyroscope; picture-in-picture\" allowfullscreen></iframe>"
   ]
  },
  {
   "cell_type": "code",
   "execution_count": 14,
   "metadata": {
    "slideshow": {
     "slide_type": "skip"
    }
   },
   "outputs": [
    {
     "data": {
      "image/jpeg": "[encoded data removed]",
      "text/html": [
       "\n",
       "        <iframe\n",
       "            width=\"560\"\n",
       "            height=\"315\"\n",
       "            src=\"https://www.youtube.com/embed/KQcMaotEznc?rel=0\"\n",
       "            frameborder=\"0\"\n",
       "            allowfullscreen\n",
       "        ></iframe>\n",
       "        "
      ],
      "text/plain": [
       "<IPython.lib.display.YouTubeVideo at 0x7211cd8a88>"
      ]
     },
     "execution_count": 14,
     "metadata": {},
     "output_type": "execute_result"
    }
   ],
   "source": [
    "# สาธิตปฏิบัติการที่ ตอนที่ 2.1\n",
    "YouTubeVideo(id[2],560,315,rel=0)"
   ]
  },
  {
   "cell_type": "code",
   "execution_count": 13,
   "metadata": {
    "slideshow": {
     "slide_type": "skip"
    }
   },
   "outputs": [
    {
     "data": {
      "image/jpeg": "[encoded data removed]",
      "text/html": [
       "\n",
       "        <iframe\n",
       "            width=\"560\"\n",
       "            height=\"315\"\n",
       "            src=\"https://www.youtube.com/embed/JPaXWr39zXk?rel=0\"\n",
       "            frameborder=\"0\"\n",
       "            allowfullscreen\n",
       "        ></iframe>\n",
       "        "
      ],
      "text/plain": [
       "<IPython.lib.display.YouTubeVideo at 0x7211cd8c08>"
      ]
     },
     "execution_count": 13,
     "metadata": {},
     "output_type": "execute_result"
    }
   ],
   "source": [
    "# สาธิตปฏิบัติการที่ 3 ตอนที่ 2.2 \n",
    "YouTubeVideo(id[3],560,315,rel=0)"
   ]
  },
  {
   "cell_type": "code",
   "execution_count": 16,
   "metadata": {
    "slideshow": {
     "slide_type": "skip"
    }
   },
   "outputs": [
    {
     "data": {
      "image/jpeg": "[encoded data removed]",
      "text/html": [
       "\n",
       "        <iframe\n",
       "            width=\"560\"\n",
       "            height=\"315\"\n",
       "            src=\"https://www.youtube.com/embed/PILcMx23O24?rel=0\"\n",
       "            frameborder=\"0\"\n",
       "            allowfullscreen\n",
       "        ></iframe>\n",
       "        "
      ],
      "text/plain": [
       "<IPython.lib.display.YouTubeVideo at 0x7211d119c8>"
      ]
     },
     "execution_count": 16,
     "metadata": {},
     "output_type": "execute_result"
    }
   ],
   "source": [
    "# สาธิตปฏิบัติการที่ 3 ตอนที่ 2.3 (การวัดมวลไม้เมตร)\n",
    "YouTubeVideo(id[4],560,315,rel=0)"
   ]
  },
  {
   "cell_type": "code",
   "execution_count": 78,
   "metadata": {},
   "outputs": [],
   "source": [
    "#jupyter nbconvert DJExp3revised.ipynb --to slide --to slides --post serve --SlidesExporter.reveal_scroll=True --SlidesExporter.reveal_theme=sky"
   ]
  }
 ],
 "metadata": {
  "celltoolbar": "Slideshow",
  "colab": {
   "collapsed_sections": [],
   "name": "Pendulum.ipynb",
   "provenance": []
  },
  "kernelspec": {
   "display_name": "Python 3",
   "language": "python",
   "name": "python3"
  },
  "language_info": {
   "codemirror_mode": {
    "name": "ipython",
    "version": 3
   },
   "file_extension": ".py",
   "mimetype": "text/x-python",
   "name": "python",
   "nbconvert_exporter": "python",
   "pygments_lexer": "ipython3",
   "version": "3.7.6"
  }
 },
 "nbformat": 4,
 "nbformat_minor": 1
}
